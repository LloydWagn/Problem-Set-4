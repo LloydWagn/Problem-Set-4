{
 "cells": [
  {
   "cell_type": "code",
   "execution_count": 8,
   "id": "afc263db-9b4e-48dc-83ae-989302dadbfc",
   "metadata": {},
   "outputs": [
    {
     "name": "stdin",
     "output_type": "stream",
     "text": [
      "Enter a breed name:  reorew\n"
     ]
    },
    {
     "name": "stdout",
     "output_type": "stream",
     "text": [
      "reorew is invalid, please run again.\n"
     ]
    }
   ],
   "source": [
    "import urllib.request, urllib.parse, urllib.error\n",
    "import json\n",
    "import random\n",
    "\n",
    "#This prevents a 404 error if input is not on API\n",
    "breeds_list = 'https://dog.ceo/api/breeds/list/all' \n",
    "uk = urllib.request.urlopen(breeds_list)\n",
    "datu = uk.read().decode()\n",
    "jon = json.loads(datu)\n",
    "string = jon\n",
    "\n",
    "#connects to random dog API\n",
    "serviceurl = 'https://dog.ceo/api/breed/'\n",
    "\n",
    "#asks for input from user and goes to the database for that input\n",
    "while True:\n",
    "    dog_breed = input('Enter a breed name: ')\n",
    "    if len(dog_breed) < 1: break\n",
    "    \n",
    "    #if input is valid\n",
    "    elif dog_breed in jon['message']:\n",
    "        url = serviceurl + dog_breed + '/images'      #goes to source of images for inputted breed\n",
    "        print('Raw data: ', url)\n",
    "        \n",
    "        uh = urllib.request.urlopen(url)\n",
    "        data = uh.read().decode()\n",
    "        js = json.loads(data)\n",
    "        parse_js = json.loads(data)\n",
    "        \n",
    "        #quantifies number of images in dataset\n",
    "        dog_images = parse_js[\"message\"]\n",
    "        total_images_in_breed = len(dog_images)     \n",
    "        \n",
    "        #bottom and top end of random image search\n",
    "        a = 0                          \n",
    "        b = total_images_in_breed  \n",
    "        \n",
    "        print(\"There are\", total_images_in_breed, \"images of\", dog_breed, \"in the Dog CEO API\")\n",
    "        print(\"Here is your\", dog_breed, dog_images[random.randint(a,b)])     \n",
    "        break\n",
    "    \n",
    "    #if input is invalid\n",
    "    else:\n",
    "        print(dog_breed, \"is invalid, please run again.\") \n",
    "        break"
   ]
  },
  {
   "cell_type": "code",
   "execution_count": null,
   "id": "decd6af6-8a73-4ba7-92fb-df7e838c9591",
   "metadata": {},
   "outputs": [],
   "source": []
  }
 ],
 "metadata": {
  "kernelspec": {
   "display_name": "UFRC Python-3.10",
   "language": "python",
   "name": "python3-3.10-ufrc"
  },
  "language_info": {
   "codemirror_mode": {
    "name": "ipython",
    "version": 3
   },
   "file_extension": ".py",
   "mimetype": "text/x-python",
   "name": "python",
   "nbconvert_exporter": "python",
   "pygments_lexer": "ipython3",
   "version": "3.10.5"
  }
 },
 "nbformat": 4,
 "nbformat_minor": 5
}
