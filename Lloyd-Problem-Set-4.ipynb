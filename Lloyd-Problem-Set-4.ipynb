{
 "cells": [
  {
   "cell_type": "code",
   "execution_count": null,
   "id": "afc263db-9b4e-48dc-83ae-989302dadbfc",
   "metadata": {},
   "outputs": [],
   "source": [
    "import urllib.request, urllib.parse, urllib.error\n",
    "import json\n",
    "\n",
    "serviceurl = 'https://dog.ceo/api/breed/'\n",
    "\n",
    "while True:\n",
    "    dog_breed = input('Enter a breed name: ')\n",
    "    if len(dog_breed) < 1: break\n",
    "        \n",
    "    url = serviceurl + dog_breed + '/images/random'\n",
    "\n",
    "    print('Retrieving', url)\n",
    "    uh = urllib.request.urlopen(url)\n",
    "    data = uh.read().decode()\n",
    "    print('Retrieved', len(data), 'characters')\n",
    "\n",
    "     try:\n",
    "        js = json.loads(data)\n",
    "    except:\n",
    "        js = None\n",
    "        \n",
    "    for breed in js\n",
    "        print(\"image link:\", breed['message'])"
   ]
  },
  {
   "cell_type": "code",
   "execution_count": null,
   "id": "a82afa1a-535b-4b0c-965e-bd141382447c",
   "metadata": {},
   "outputs": [],
   "source": []
  }
 ],
 "metadata": {
  "kernelspec": {
   "display_name": "UFRC Python-3.10",
   "language": "python",
   "name": "python3-3.10-ufrc"
  },
  "language_info": {
   "codemirror_mode": {
    "name": "ipython",
    "version": 3
   },
   "file_extension": ".py",
   "mimetype": "text/x-python",
   "name": "python",
   "nbconvert_exporter": "python",
   "pygments_lexer": "ipython3",
   "version": "3.10.5"
  }
 },
 "nbformat": 4,
 "nbformat_minor": 5
}
